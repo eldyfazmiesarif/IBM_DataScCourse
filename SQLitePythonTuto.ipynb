{
 "cells": [
  {
   "cell_type": "markdown",
   "id": "ce9329d0-64f7-4100-8b46-de105e940edc",
   "metadata": {},
   "source": [
    "# Create & Access SQLite database using Python\n",
    "### What is SQLite?\n",
    "It is a type of RDBMS. But single file, more simpler than MySQL but less powerful and not scalable"
   ]
  },
  {
   "cell_type": "markdown",
   "id": "99e690ba-b04c-4e1d-9b89-680677c61ea5",
   "metadata": {},
   "source": [
    "&nbsp;<br>\n",
    "&nbsp;<br>\n",
    "&nbsp;<br>"
   ]
  },
  {
   "cell_type": "markdown",
   "id": "c2265917-3477-4a38-916b-97139f965f9d",
   "metadata": {},
   "source": [
    "## Task 1: Create database using SQLite¶"
   ]
  },
  {
   "cell_type": "code",
   "execution_count": 2,
   "id": "083471e9-a76f-4d1b-be06-ec3535fd5853",
   "metadata": {},
   "outputs": [],
   "source": [
    "# load sqlite3\n",
    "import sqlite3"
   ]
  },
  {
   "cell_type": "code",
   "execution_count": 4,
   "id": "d8ccd3f9-2934-4c8e-abe6-04c51fe971f7",
   "metadata": {},
   "outputs": [],
   "source": [
    "# Connecting to sqlite connection object\n",
    "conn = sqlite3.connect('INSTRUCTOR.db')"
   ]
  },
  {
   "cell_type": "code",
   "execution_count": 6,
   "id": "a5981dcd-250a-4a50-a7cf-c732c7049ff0",
   "metadata": {},
   "outputs": [],
   "source": [
    "# Cursor object\n",
    "cursor_obj = conn.cursor()"
   ]
  },
  {
   "cell_type": "code",
   "execution_count": 8,
   "id": "a67c6aff-61d6-4863-b91f-dae7931feef3",
   "metadata": {},
   "outputs": [
    {
     "data": {
      "text/plain": [
       "<sqlite3.Cursor at 0x126d75340>"
      ]
     },
     "execution_count": 8,
     "metadata": {},
     "output_type": "execute_result"
    }
   ],
   "source": [
    "# Drop the table if already exists.\n",
    "cursor_obj.execute(\"DROP TABLE IF EXISTS INSTRUCTOR\")"
   ]
  },
  {
   "cell_type": "markdown",
   "id": "1a47c36d-05b6-4de1-a0c4-79ebf8b13072",
   "metadata": {},
   "source": [
    "&nbsp;<br>\n",
    "&nbsp;<br>\n",
    "&nbsp;<br>"
   ]
  },
  {
   "cell_type": "markdown",
   "id": "62861706-a246-4b87-bd00-340094f6914d",
   "metadata": {},
   "source": [
    "## Task 2: Create a table in the database"
   ]
  },
  {
   "cell_type": "code",
   "execution_count": 10,
   "id": "550ebd72-6072-4814-bc05-00c445f211ea",
   "metadata": {},
   "outputs": [
    {
     "name": "stdout",
     "output_type": "stream",
     "text": [
      "Table is Ready\n"
     ]
    }
   ],
   "source": [
    "# Creating table\n",
    "table = \"\"\"\n",
    "create table IF NOT EXISTS INSTRUCTOR (\n",
    "ID INTEGER PRIMARY KEY NOT NULL,\n",
    "FNAME VARCHAR(20),\n",
    "LNAME VARCHAR(20),\n",
    "CITY VARCHAR(20),\n",
    "CCODE CHAR(2)\n",
    ");\n",
    "\"\"\"\n",
    " \n",
    "cursor_obj.execute(table)\n",
    " \n",
    "print(\"Table is Ready\")"
   ]
  },
  {
   "cell_type": "markdown",
   "id": "017f5795-cf10-4d95-8d78-f129e071173f",
   "metadata": {},
   "source": [
    "&nbsp;<br>\n",
    "&nbsp;<br>\n",
    "&nbsp;<br>"
   ]
  },
  {
   "cell_type": "markdown",
   "id": "4619b529-cb6a-44c9-9697-65ee6e2a7c5d",
   "metadata": {},
   "source": [
    "## Task 3: Insert data into table"
   ]
  },
  {
   "cell_type": "code",
   "execution_count": 12,
   "id": "e0c0bf19-37c5-428a-922d-5e1acd62c4dc",
   "metadata": {},
   "outputs": [
    {
     "data": {
      "text/plain": [
       "<sqlite3.Cursor at 0x126d75340>"
      ]
     },
     "execution_count": 12,
     "metadata": {},
     "output_type": "execute_result"
    }
   ],
   "source": [
    "# inserting just the first row of data, i.e. for instructor Rav Ahuja\n",
    "cursor_obj.execute('''\n",
    "insert into INSTRUCTOR values\n",
    "(1, 'Rav', 'Ahuja', 'Toronto', 'CA')\n",
    "''')"
   ]
  },
  {
   "cell_type": "code",
   "execution_count": 14,
   "id": "9d8e2492-6b36-4ed0-a694-19898cac4802",
   "metadata": {},
   "outputs": [
    {
     "data": {
      "text/plain": [
       "<sqlite3.Cursor at 0x126d75340>"
      ]
     },
     "execution_count": 14,
     "metadata": {},
     "output_type": "execute_result"
    }
   ],
   "source": [
    "cursor_obj.execute('''\n",
    "insert into INSTRUCTOR values\n",
    "(2, 'Raul', 'Chong', 'Markham', 'CA'),\n",
    "(3, 'Hima', 'Vasudevan', 'Chicago', 'US')\n",
    "''')"
   ]
  },
  {
   "cell_type": "markdown",
   "id": "7b15f1dd-4849-4c12-bea3-431dd01d6726",
   "metadata": {},
   "source": [
    "&nbsp;<br>\n",
    "&nbsp;<br>\n",
    "&nbsp;<br>"
   ]
  },
  {
   "cell_type": "markdown",
   "id": "c6141ac2-6404-4542-aba7-b1c597b536b7",
   "metadata": {},
   "source": [
    "## Task 4: Query data in the table"
   ]
  },
  {
   "cell_type": "code",
   "execution_count": 27,
   "id": "34a8e208-8065-4d2c-8209-aa95187f3e40",
   "metadata": {},
   "outputs": [
    {
     "name": "stdout",
     "output_type": "stream",
     "text": [
      "All the data\n",
      "(1, 'Rav', 'Ahuja', 'Toronto', 'CA')\n",
      "(2, 'Raul', 'Chong', 'Markham', 'CA')\n",
      "(3, 'Hima', 'Vasudevan', 'Chicago', 'US')\n"
     ]
    }
   ],
   "source": [
    "# Fetch all data in the table\n",
    "statement = '''\n",
    "SELECT * FROM INSTRUCTOR\n",
    "'''\n",
    "\n",
    "cursor_obj.execute(statement)\n",
    "\n",
    "output_all = cursor_obj.fetchall()\n",
    "\n",
    "print('All the data')\n",
    "for row_all in output_all:\n",
    "  print(row_all)"
   ]
  },
  {
   "cell_type": "code",
   "execution_count": 23,
   "id": "959de851-99b1-4405-846c-677301d3a04b",
   "metadata": {},
   "outputs": [
    {
     "name": "stdout",
     "output_type": "stream",
     "text": [
      "The first 2 rows of Instructor Table\n",
      "(1, 'Rav', 'Ahuja', 'Toronto', 'CA')\n",
      "(2, 'Raul', 'Chong', 'Markham', 'CA')\n"
     ]
    }
   ],
   "source": [
    "# Fetch few rows from the table\n",
    "statement = '''\n",
    "SELECT * FROM INSTRUCTOR\n",
    "'''\n",
    "\n",
    "cursor_obj.execute(statement)\n",
    "\n",
    "output_many = cursor_obj.fetchmany(2) # output_many variable has only the first 2 row of table data\n",
    "\n",
    "print('The first 2 rows of Instructor Table')\n",
    "for rows in output_many:\n",
    "    print(rows)"
   ]
  },
  {
   "cell_type": "code",
   "execution_count": 29,
   "id": "082934a9-9175-429a-94d4-2369b3cef80b",
   "metadata": {},
   "outputs": [
    {
     "name": "stdout",
     "output_type": "stream",
     "text": [
      "The first names of instructors:\n",
      "('Rav',)\n",
      "('Raul',)\n",
      "('Hima',)\n"
     ]
    }
   ],
   "source": [
    "# Fetch only FNAME from the table\n",
    "statement = '''\n",
    "select FNAME from INSTRUCTOR\n",
    "'''\n",
    "\n",
    "cursor_obj.execute(statement)\n",
    "\n",
    "fname_output = cursor_obj.fetchall()\n",
    "\n",
    "print('The first names of instructors:')\n",
    "for rows in fname_output:\n",
    "    print(rows)"
   ]
  },
  {
   "cell_type": "code",
   "execution_count": 33,
   "id": "28b73ed4-8ed5-466e-bece-148b885dc73f",
   "metadata": {},
   "outputs": [
    {
     "data": {
      "text/plain": [
       "<sqlite3.Cursor at 0x126d75340>"
      ]
     },
     "execution_count": 33,
     "metadata": {},
     "output_type": "execute_result"
    }
   ],
   "source": [
    "# write and execute an update statement that changes the Rav's CITY to MOOSETOWN\n",
    "upd_statement = '''\n",
    "update INSTRUCTOR\n",
    "set CITY='Moosetown'\n",
    "where FNAME='Rav'\n",
    "'''\n",
    "cursor_obj.execute(upd_statement)"
   ]
  },
  {
   "cell_type": "code",
   "execution_count": 70,
   "id": "a006d2f1-d23b-42f3-b49d-c43c047476e7",
   "metadata": {},
   "outputs": [
    {
     "ename": "ProgrammingError",
     "evalue": "Cannot operate on a closed database.",
     "output_type": "error",
     "traceback": [
      "\u001b[0;31m---------------------------------------------------------------------------\u001b[0m",
      "\u001b[0;31mProgrammingError\u001b[0m                          Traceback (most recent call last)",
      "Cell \u001b[0;32mIn[70], line 6\u001b[0m\n\u001b[1;32m      1\u001b[0m \u001b[38;5;66;03m# Fetch all data in the table\u001b[39;00m\n\u001b[1;32m      2\u001b[0m statement \u001b[38;5;241m=\u001b[39m \u001b[38;5;124m'''\u001b[39m\n\u001b[1;32m      3\u001b[0m \u001b[38;5;124mSELECT * FROM INSTRUCTOR\u001b[39m\n\u001b[1;32m      4\u001b[0m \u001b[38;5;124m'''\u001b[39m\n\u001b[0;32m----> 6\u001b[0m cursor_obj\u001b[38;5;241m.\u001b[39mexecute(statement)\n\u001b[1;32m      8\u001b[0m output_all \u001b[38;5;241m=\u001b[39m cursor_obj\u001b[38;5;241m.\u001b[39mfetchall()\n\u001b[1;32m     10\u001b[0m \u001b[38;5;28mprint\u001b[39m(\u001b[38;5;124m'\u001b[39m\u001b[38;5;124mAll the data\u001b[39m\u001b[38;5;124m'\u001b[39m)\n",
      "\u001b[0;31mProgrammingError\u001b[0m: Cannot operate on a closed database."
     ]
    }
   ],
   "source": [
    "# Fetch all data in the table\n",
    "statement = '''\n",
    "SELECT * FROM INSTRUCTOR\n",
    "'''\n",
    "\n",
    "cursor_obj.execute(statement)\n",
    "\n",
    "output_all = cursor_obj.fetchall()\n",
    "\n",
    "print('All the data')\n",
    "for row_all in output_all:\n",
    "  print(row_all)"
   ]
  },
  {
   "cell_type": "markdown",
   "id": "49ba021e-195d-4995-8953-a79e5033a456",
   "metadata": {},
   "source": [
    "&nbsp;<br>\n",
    "&nbsp;<br>\n",
    "&nbsp;<br>"
   ]
  },
  {
   "cell_type": "markdown",
   "id": "b4cfee37-6331-4516-a3fa-927b74f2c643",
   "metadata": {},
   "source": [
    "## Task 5: Retrieve data into Pandas"
   ]
  },
  {
   "cell_type": "code",
   "execution_count": 50,
   "id": "8b7d3e57-382a-4eab-a81b-21a7324eb312",
   "metadata": {},
   "outputs": [
    {
     "data": {
      "text/html": [
       "<div>\n",
       "<style scoped>\n",
       "    .dataframe tbody tr th:only-of-type {\n",
       "        vertical-align: middle;\n",
       "    }\n",
       "\n",
       "    .dataframe tbody tr th {\n",
       "        vertical-align: top;\n",
       "    }\n",
       "\n",
       "    .dataframe thead th {\n",
       "        text-align: right;\n",
       "    }\n",
       "</style>\n",
       "<table border=\"1\" class=\"dataframe\">\n",
       "  <thead>\n",
       "    <tr style=\"text-align: right;\">\n",
       "      <th></th>\n",
       "      <th>ID</th>\n",
       "      <th>FNAME</th>\n",
       "      <th>LNAME</th>\n",
       "      <th>CITY</th>\n",
       "      <th>CCODE</th>\n",
       "    </tr>\n",
       "  </thead>\n",
       "  <tbody>\n",
       "    <tr>\n",
       "      <th>0</th>\n",
       "      <td>1</td>\n",
       "      <td>Rav</td>\n",
       "      <td>Ahuja</td>\n",
       "      <td>Moosetown</td>\n",
       "      <td>CA</td>\n",
       "    </tr>\n",
       "    <tr>\n",
       "      <th>1</th>\n",
       "      <td>2</td>\n",
       "      <td>Raul</td>\n",
       "      <td>Chong</td>\n",
       "      <td>Markham</td>\n",
       "      <td>CA</td>\n",
       "    </tr>\n",
       "    <tr>\n",
       "      <th>2</th>\n",
       "      <td>3</td>\n",
       "      <td>Hima</td>\n",
       "      <td>Vasudevan</td>\n",
       "      <td>Chicago</td>\n",
       "      <td>US</td>\n",
       "    </tr>\n",
       "  </tbody>\n",
       "</table>\n",
       "</div>"
      ],
      "text/plain": [
       "   ID FNAME      LNAME       CITY CCODE\n",
       "0   1   Rav      Ahuja  Moosetown    CA\n",
       "1   2  Raul      Chong    Markham    CA\n",
       "2   3  Hima  Vasudevan    Chicago    US"
      ]
     },
     "execution_count": 50,
     "metadata": {},
     "output_type": "execute_result"
    }
   ],
   "source": [
    "import pandas as pd\n",
    "\n",
    "# retrieve the query results into a pandas dataframe\n",
    "# see Task 1, where conn is established there. That is how pd can find our table\n",
    "df = pd.read_sql_query(\"select * from instructor;\", conn)\n",
    "\n",
    "# to see the table via pd\n",
    "df"
   ]
  },
  {
   "cell_type": "code",
   "execution_count": 54,
   "id": "9e6a8b22-99ea-4543-a97b-a5f11c0d54fd",
   "metadata": {},
   "outputs": [
    {
     "data": {
      "text/plain": [
       "'Ahuja'"
      ]
     },
     "execution_count": 54,
     "metadata": {},
     "output_type": "execute_result"
    }
   ],
   "source": [
    "#print just the LNAME for first row in the pandas data frame\n",
    "df.LNAME[0]"
   ]
  },
  {
   "cell_type": "markdown",
   "id": "9ebdfb57-c369-4b6a-aa1e-129d00ee0b0b",
   "metadata": {},
   "source": [
    "Once the data is in a Pandas dataframe, you can do the typical pandas operations on it."
   ]
  },
  {
   "cell_type": "code",
   "execution_count": 57,
   "id": "9dac3615-166c-4455-b5bf-ad63bdb9cb5e",
   "metadata": {},
   "outputs": [
    {
     "data": {
      "text/plain": [
       "(3, 5)"
      ]
     },
     "execution_count": 57,
     "metadata": {},
     "output_type": "execute_result"
    }
   ],
   "source": [
    "df.shape"
   ]
  },
  {
   "cell_type": "markdown",
   "id": "bb03fe50-c166-4bfd-b5c1-a19430966433",
   "metadata": {},
   "source": [
    "&nbsp;<br>\n",
    "&nbsp;<br>\n",
    "&nbsp;<br>"
   ]
  },
  {
   "cell_type": "markdown",
   "id": "0d66fff7-a6a6-46f3-b7e2-cbfd33cee918",
   "metadata": {},
   "source": [
    "## Task 6: Close the connection\n",
    "We free all resources by closing the connection.\n",
    "Remember that it is always important to close connections\n",
    "so that we can avoid unused connections taking up resources."
   ]
  },
  {
   "cell_type": "code",
   "execution_count": 68,
   "id": "771dc16b-6988-4d81-8ee5-c98cd354e425",
   "metadata": {},
   "outputs": [],
   "source": [
    "# Close the connection\n",
    "conn.close()"
   ]
  },
  {
   "cell_type": "markdown",
   "id": "03bebe08-0a25-45ac-abd9-186325119aff",
   "metadata": {},
   "source": [
    "&nbsp;<br>\n",
    "&nbsp;<br>\n",
    "&nbsp;<br>"
   ]
  },
  {
   "cell_type": "markdown",
   "id": "ca2397c1-f946-456a-bff4-074c5c1b7fcb",
   "metadata": {},
   "source": [
    "## Author\n",
    "Eldy F. Sarif"
   ]
  }
 ],
 "metadata": {
  "kernelspec": {
   "display_name": "Python 3 (Spyder)",
   "language": "python3",
   "name": "python3"
  },
  "language_info": {
   "codemirror_mode": {
    "name": "ipython",
    "version": 3
   },
   "file_extension": ".py",
   "mimetype": "text/x-python",
   "name": "python",
   "nbconvert_exporter": "python",
   "pygments_lexer": "ipython3",
   "version": "3.11.8"
  }
 },
 "nbformat": 4,
 "nbformat_minor": 5
}
